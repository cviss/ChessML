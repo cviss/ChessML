{
  "cells": [
    {
      "cell_type": "markdown",
      "metadata": {
        "id": "61HeyJ-mxj7r"
      },
      "source": [
        "# Install and Import Requirements"
      ]
    },
    {
      "cell_type": "code",
      "execution_count": 13,
      "metadata": {
        "colab": {
          "base_uri": "https://localhost:8080/"
        },
        "id": "P-Re3-wHjmyb",
        "outputId": "62ca0af2-db3f-41cc-ae6a-39d8dc6604b1"
      },
      "outputs": [
        {
          "output_type": "stream",
          "name": "stdout",
          "text": [
            "Looking in indexes: https://pypi.org/simple, https://us-python.pkg.dev/colab-wheels/public/simple/\n",
            "Requirement already satisfied: python-chess in /usr/local/lib/python3.7/dist-packages (0.23.11)\n"
          ]
        }
      ],
      "source": [
        "# Credit to: https://jupyter.brynmawr.edu/services/public/dblank/CS371%20Cognitive%20Science/2016-Fall/Programming%20a%20Chess%20Player.ipynb for parts of function to play a game and parts of human player input class\n",
        "# and https://medium.com/dscvitpune/lets-create-a-chess-ai-8542a12afef for parts of piece value table calculation\n",
        "\n",
        "!pip install python-chess\n",
        "import chess\n",
        "import random\n",
        "from IPython.display import display, HTML, clear_output\n",
        "import time"
      ]
    },
    {
      "cell_type": "markdown",
      "metadata": {
        "id": "DEbJENO3xn63"
      },
      "source": [
        "# Define helper functions and random/human players (functions to choose from legal moves given a board position)"
      ]
    },
    {
      "cell_type": "code",
      "execution_count": 14,
      "metadata": {
        "id": "1tNIU5byks57"
      },
      "outputs": [],
      "source": [
        "#Helper functions\n",
        "def which_color(player):\n",
        "    return \"White\" if player == chess.WHITE else \"Black\"\n",
        "\n",
        "def input_move(board):\n",
        "  move = None\n",
        "  algebraic = input(\"Input move [q to quit]> \")\n",
        "  if algebraic and algebraic[0] == \"q\":\n",
        "    raise KeyboardInterrupt()\n",
        "  try:\n",
        "    move = board.parse_san(algebraic)\n",
        "  except:\n",
        "    move = None\n",
        "  return move"
      ]
    },
    {
      "cell_type": "code",
      "execution_count": 15,
      "metadata": {
        "id": "tA4XLw8Cuvl8"
      },
      "outputs": [],
      "source": [
        "def random_player(board):\n",
        "    move = random.choice(list(board.legal_moves)) \n",
        "    return move\n",
        "\n",
        "def human_player(board):\n",
        "  move = input_move(board)\n",
        "  legal_moves = [move for move in board.legal_moves]\n",
        "  while move not in legal_moves:\n",
        "    print(\"Invalid\")\n",
        "    move = input_move(board)\n",
        "  return move"
      ]
    },
    {
      "cell_type": "markdown",
      "metadata": {
        "id": "FKWolN2xx27G"
      },
      "source": [
        "# Main function to take players and play a game"
      ]
    },
    {
      "cell_type": "code",
      "execution_count": 16,
      "metadata": {
        "id": "rkhjOpdhokOW"
      },
      "outputs": [],
      "source": [
        "def play_game(player1, player2, pause=0.1):\n",
        "    board = chess.Board()\n",
        "    try:\n",
        "      while not board.is_game_over(claim_draw=True):\n",
        "        #Get Move from player whose turn it is\n",
        "        if board.turn == chess.WHITE:\n",
        "          move = player1(board)\n",
        "        else:\n",
        "          move = player2(board)\n",
        "        move_notation = board.san(move) #Convert to standard readable notation\n",
        "        board.push(move) #Make move\n",
        "\n",
        "\n",
        "        # Display Board and Info\n",
        "        move_number = (int)((len(board.move_stack)+2)/2)\n",
        "        html = \"<b>Move %s %s, Last Move: '%s':</b><br/>%s\" % (\n",
        "                    move_number, which_color(board.turn), move_notation, board._repr_svg_())\n",
        "        clear_output(wait=True)\n",
        "        display(HTML(html))    \n",
        "        time.sleep(pause)\n",
        "    except KeyboardInterrupt:\n",
        "      msg = \"Keyboard Interrupt\"\n",
        "      return (None, msg, board)\n",
        "\n",
        "    #When Game ends, display result:\n",
        "    result = None\n",
        "    if board.is_checkmate():\n",
        "      msg = \"Checkmate! \" + which_color(not board.turn) + \" wins.\"\n",
        "      result = not board.turn\n",
        "    elif board.is_stalemate():\n",
        "      msg = \"Draw: stalemate\"\n",
        "    elif board.is_fivefold_repetition():\n",
        "      msg = \"Draw: 5-fold repetition\"\n",
        "    elif board.is_insufficient_material():\n",
        "      msg = \"Draw: insufficient material\"\n",
        "    elif board.can_claim_draw():\n",
        "      msg = \"Draw: claim\"\n",
        "    print(msg)\n",
        "\n",
        "    move_sequence = []\n",
        "    for j in range(len(board.move_stack)):\n",
        "      move = board.pop()\n",
        "      move_sequence.append(board.san(move))\n",
        "\n",
        "    print(\"Moves: \")\n",
        "    i = 1\n",
        "    white = True\n",
        "    for k in range(len(move_sequence)-1, -1, -1):\n",
        "      if white:\n",
        "        print(str(i) + \". \" + move_sequence[k])\n",
        "        white = False\n",
        "      else:\n",
        "        print(str(i) + \"... \" + move_sequence[k])\n",
        "        white = True\n",
        "        i+=1\n",
        "      \n",
        "    return (result, msg, board)"
      ]
    },
    {
      "cell_type": "markdown",
      "metadata": {
        "id": "TcE90RhMyDiO"
      },
      "source": [
        "# Write AI player"
      ]
    },
    {
      "cell_type": "markdown",
      "metadata": {
        "id": "fpZ4IsLSMjUU"
      },
      "source": [
        "## BetaZero"
      ]
    },
    {
      "cell_type": "code",
      "execution_count": 17,
      "metadata": {
        "id": "mbr68zgtyCCA"
      },
      "outputs": [],
      "source": [
        "def betazero_player(board, depth=2):\n",
        "\n",
        "  if(board.turn):\n",
        "    best_eval = float('-inf')\n",
        "    best_move = None\n",
        "    for move in board.legal_moves:\n",
        "      board.push(move)\n",
        "      eval = min_search(board, float('-inf'), float('inf'), depth)\n",
        "      board.pop()\n",
        "      if eval > best_eval:\n",
        "        best_eval = eval\n",
        "        best_move = move\n",
        "    return best_move\n",
        "\n",
        "  else:\n",
        "    best_eval = float('inf')\n",
        "    best_move = None\n",
        "    for move in board.legal_moves:\n",
        "      board.push(move)\n",
        "      eval = max_search(board, float('-inf'), float('inf'), depth)\n",
        "      board.pop()\n",
        "      if eval < best_eval:\n",
        "        best_eval = eval\n",
        "        best_move = move\n",
        "    return best_move\n",
        "\n",
        "def omegazero_player(board, depth=1):\n",
        "\n",
        "  if(board.turn):\n",
        "    best_eval = float('-inf')\n",
        "    best_move = None\n",
        "    for move in board.legal_moves:\n",
        "      board.push(move)\n",
        "      eval = min_search(board, float('-inf'), float('inf'), depth)\n",
        "      board.pop()\n",
        "      if eval > best_eval:\n",
        "        best_eval = eval\n",
        "        best_move = move\n",
        "    return best_move\n",
        "\n",
        "  else:\n",
        "    best_eval = float('inf')\n",
        "    best_move = None\n",
        "    for move in board.legal_moves:\n",
        "      board.push(move)\n",
        "      eval = max_search(board, float('-inf'), float('inf'), depth)\n",
        "      board.pop()\n",
        "      if eval < best_eval:\n",
        "        best_eval = eval\n",
        "        best_move = move\n",
        "    return best_move"
      ]
    },
    {
      "cell_type": "markdown",
      "metadata": {
        "id": "BXlqkmIMMl05"
      },
      "source": [
        "## Min-max search with alpha-beta pruning"
      ]
    },
    {
      "cell_type": "code",
      "execution_count": 18,
      "metadata": {
        "id": "bSFZFmoVzDPa"
      },
      "outputs": [],
      "source": [
        "def max_search(board, alpha, beta, depth):\n",
        "  if board.is_checkmate():\n",
        "    if board.turn:\n",
        "      return -9999\n",
        "    else:\n",
        "      return 9999\n",
        "  if board.is_stalemate():\n",
        "    return 0\n",
        "  if board.is_insufficient_material():\n",
        "    return 0\n",
        "  if board.can_claim_draw():\n",
        "    return 0\n",
        "\n",
        "  if depth == 0:\n",
        "    return position_evaluation_function(board)\n",
        "\n",
        "  best_eval = float('-inf')\n",
        "\n",
        "  for move in board.legal_moves:\n",
        "    board.push(move)\n",
        "    eval = min_search(board, alpha, beta, depth-1)\n",
        "    board.pop()\n",
        "    if eval > best_eval:\n",
        "      best_eval = eval\n",
        "      alpha = eval\n",
        "    if eval > beta:\n",
        "      return eval\n",
        "\n",
        "  return best_eval\n",
        "\n",
        "def min_search(board, alpha, beta, depth):\n",
        "  if board.is_checkmate():\n",
        "    if board.turn:\n",
        "      return -9999\n",
        "    else:\n",
        "      return 9999\n",
        "  if board.is_stalemate():\n",
        "      return 0\n",
        "  if board.is_insufficient_material():\n",
        "      return 0\n",
        "  if board.can_claim_draw():\n",
        "    return 0\n",
        "\n",
        "  if depth == 0:\n",
        "    return position_evaluation_function(board)\n",
        "\n",
        "  best_eval = float('inf')\n",
        "\n",
        "  for move in board.legal_moves:\n",
        "    board.push(move)\n",
        "    eval = max_search(board, alpha, beta, depth-1)\n",
        "    board.pop()\n",
        "\n",
        "    if eval < best_eval:\n",
        "      best_eval = eval\n",
        "      beta = eval\n",
        "    if eval < alpha:\n",
        "      return eval\n",
        "\n",
        "  return best_eval\n"
      ]
    },
    {
      "cell_type": "markdown",
      "metadata": {
        "id": "75gYH8Q0MpG5"
      },
      "source": [
        "## Position Evaluation Function"
      ]
    },
    {
      "cell_type": "markdown",
      "metadata": {
        "id": "LvP9t40eNnem"
      },
      "source": [
        "### Position Table"
      ]
    },
    {
      "cell_type": "code",
      "execution_count": 19,
      "metadata": {
        "id": "ZrxCnMBsDV3R"
      },
      "outputs": [],
      "source": [
        "pawntable = [\n",
        "    0, 0, 0, 0, 0, 0, 0, 0,\n",
        "    5, 10, 10, -20, -20, 10, 10, 5,\n",
        "    5, 3, -15, 0, 0, -5, 4, 5,\n",
        "    0, 0, 0, 20, 20, 0, 0, 0,\n",
        "    5, 5, 10, 25, 25, 10, 5, 5,\n",
        "    10, 10, 20, 30, 30, 20, 10, 10,\n",
        "    50, 50, 50, 50, 50, 50, 50, 50,\n",
        "    0, 0, 0, 0, 0, 0, 0, 0]\n",
        "\n",
        "knightstable = [\n",
        "    -50, -40, -30, -30, -30, -30, -40, -50,\n",
        "    -40, -20, 0, 5, 5, 0, -20, -40,\n",
        "    -30, 5, 10, 15, 15, 10, 5, -30,\n",
        "    -30, 0, 15, 20, 20, 15, 0, -30,\n",
        "    -30, 5, 15, 20, 20, 15, 5, -30,\n",
        "    -30, 0, 10, 15, 15, 10, 0, -30,\n",
        "    -40, -20, 0, 0, 0, 0, -20, -40,\n",
        "    -50, -40, -30, -30, -30, -30, -40, -50]\n",
        "\n",
        "bishopstable = [\n",
        "    -20, -10, -10, -10, -10, -10, -10, -20,\n",
        "    -10, 12, 0, 0, 0, 0, 12, -10,\n",
        "    -10, 10, 10, 10, 10, 10, 10, -10,\n",
        "    -10, 0, 10, 10, 10, 10, 0, -10,\n",
        "    -10, 5, 5, 10, 10, 5, 5, -10,\n",
        "    -10, 0, 5, 10, 10, 5, 0, -10,\n",
        "    -10, 0, 0, 0, 0, 0, 0, -10,\n",
        "    -20, -10, -10, -10, -10, -10, -10, -20]\n",
        "\n",
        "rookstable = [\n",
        "    0, 0, 0, 5, 5, 0, 0, 0,\n",
        "    -5, 0, 0, 0, 0, 0, 0, -5,\n",
        "    -5, 0, 0, 0, 0, 0, 0, -5,\n",
        "    -5, 0, 0, 0, 0, 0, 0, -5,\n",
        "    -5, 0, 0, 0, 0, 0, 0, -5,\n",
        "    -5, 0, 0, 0, 0, 0, 0, -5,\n",
        "    5, 10, 10, 10, 10, 10, 10, 5,\n",
        "    0, 0, 0, 0, 0, 0, 0, 0]\n",
        "\n",
        "queenstable = [\n",
        "    -20, -10, -10, -5, -5, -10, -10, -20,\n",
        "    -10, 0, 0, 0, 0, 0, 0, -10,\n",
        "    -10, 5, 5, 5, 5, 5, 0, -10,\n",
        "    0, 0, 5, 5, 5, 5, 0, -5,\n",
        "    -5, 0, 5, 5, 5, 5, 0, -5,\n",
        "    -10, 0, 5, 5, 5, 5, 0, -10,\n",
        "    -10, 0, 0, 0, 0, 0, 0, -10,\n",
        "    -20, -10, -10, -5, -5, -10, -10, -20]\n",
        "\n",
        "kingstable = [\n",
        "    20, 30, 10, 0, 0, 10, 30, 20,\n",
        "    20, 20, 0, 0, 0, 0, 20, 20,\n",
        "    -10, -20, -20, -20, -20, -20, -20, -10,\n",
        "    -20, -30, -30, -40, -40, -30, -30, -20,\n",
        "    -30, -40, -40, -50, -50, -40, -40, -30,\n",
        "    -30, -40, -40, -50, -50, -40, -40, -30,\n",
        "    -30, -40, -40, -50, -50, -40, -40, -30,\n",
        "    -30, -40, -40, -50, -50, -40, -40, -30]\n",
        "\n",
        "def get_position_value(board):\n",
        "  pawnsq = sum([pawntable[i] for i in board.pieces(chess.PAWN, chess.WHITE)])\n",
        "  pawnsq = pawnsq + sum([-pawntable[chess.square_mirror(i)]\n",
        "                        for i in board.pieces(chess.PAWN, chess.BLACK)])\n",
        "  \n",
        "  knightsq = sum([knightstable[i] for i in board.pieces(chess.KNIGHT, chess.WHITE)])\n",
        "  knightsq = knightsq + sum([-knightstable[chess.square_mirror(i)]\n",
        "                            for i in board.pieces(chess.KNIGHT, chess.BLACK)])\n",
        "  \n",
        "  bishopsq = sum([bishopstable[i] for i in board.pieces(chess.BISHOP, chess.WHITE)])\n",
        "  bishopsq = bishopsq + sum([-bishopstable[chess.square_mirror(i)]\n",
        "                            for i in board.pieces(chess.BISHOP, chess.BLACK)])\n",
        "  \n",
        "  rooksq = sum([rookstable[i] for i in board.pieces(chess.ROOK, chess.WHITE)])\n",
        "  rooksq = rooksq + sum([-rookstable[chess.square_mirror(i)]\n",
        "                        for i in board.pieces(chess.ROOK, chess.BLACK)])\n",
        "  \n",
        "  queensq = sum([queenstable[i] for i in board.pieces(chess.QUEEN, chess.WHITE)])\n",
        "  queensq = queensq + sum([-queenstable[chess.square_mirror(i)]\n",
        "                          for i in board.pieces(chess.QUEEN, chess.BLACK)])\n",
        "  \n",
        "  kingsq = sum([kingstable[i] for i in board.pieces(chess.KING, chess.WHITE)])\n",
        "  kingsq = kingsq + sum([-kingstable[chess.square_mirror(i)]\n",
        "                        for i in board.pieces(chess.KING, chess.BLACK)])\n",
        "  \n",
        "  return pawnsq + knightsq + bishopsq + rooksq + queensq + kingsq"
      ]
    },
    {
      "cell_type": "markdown",
      "metadata": {
        "id": "ZeFTO6XKOBsu"
      },
      "source": [
        "### Material Count"
      ]
    },
    {
      "cell_type": "code",
      "execution_count": 20,
      "metadata": {
        "id": "M4SMykds9Lip"
      },
      "outputs": [],
      "source": [
        "def get_material_count(board):\n",
        "  wp = len(board.pieces(chess.PAWN, chess.WHITE))\n",
        "  bp = len(board.pieces(chess.PAWN, chess.BLACK))\n",
        "  wn = len(board.pieces(chess.KNIGHT, chess.WHITE))\n",
        "  bn = len(board.pieces(chess.KNIGHT, chess.BLACK))\n",
        "  wb = len(board.pieces(chess.BISHOP, chess.WHITE))\n",
        "  bb = len(board.pieces(chess.BISHOP, chess.BLACK))\n",
        "  wr = len(board.pieces(chess.ROOK, chess.WHITE))\n",
        "  br = len(board.pieces(chess.ROOK, chess.BLACK))\n",
        "  wq = len(board.pieces(chess.QUEEN, chess.WHITE))\n",
        "  bq = len(board.pieces(chess.QUEEN, chess.BLACK))\n",
        "\n",
        "  return 100 * (wp - bp) + 300 * (wn - bn) + 310 * (wb - bb) + 500 * (wr - br) + 900 * (wq - bq)"
      ]
    },
    {
      "cell_type": "markdown",
      "metadata": {
        "id": "47Uk9wLEOg89"
      },
      "source": [
        "### Squares controlled"
      ]
    },
    {
      "cell_type": "code",
      "execution_count": 21,
      "metadata": {
        "id": "Vly2om-qOj38"
      },
      "outputs": [],
      "source": [
        "def get_square_control(board):\n",
        "  sum = 0\n",
        "  for i in range(64):\n",
        "    attacks = len(list(board.attacks(i)))\n",
        "    if attacks == 0:\n",
        "      continue\n",
        "    piece = board.piece_at(i)\n",
        "    if piece.color:\n",
        "      sum += attacks\n",
        "    else:\n",
        "      sum -= attacks\n",
        "\n",
        "  return sum * 20\n",
        "\n",
        "  # sum = 0\n",
        "  # for i in range(64):\n",
        "  #   attacks = len(list(board.attacks(i)))\n",
        "  #   piece = board.piece_at(i)\n",
        "  #   if piece is not None:\n",
        "  #     if piece.color:\n",
        "  #       sum += attacks\n",
        "  #     else:\n",
        "  #       sum -= attacks\n",
        "\n",
        "  # return sum * 5"
      ]
    },
    {
      "cell_type": "markdown",
      "metadata": {
        "id": "N38psTaKOEYh"
      },
      "source": [
        "### Combine evaluations"
      ]
    },
    {
      "cell_type": "code",
      "execution_count": 22,
      "metadata": {
        "id": "6OL1qf7Zy7b9"
      },
      "outputs": [],
      "source": [
        "materialisticness = 1.0\n",
        "positionality = 1.5\n",
        "control = 0.8\n",
        "\n",
        "def position_evaluation_function(board):\n",
        "  material = get_material_count(board)\n",
        "  piece_positioning = get_position_value(board)\n",
        "  square_control = get_square_control(board)\n",
        "\n",
        "  return (material * materialisticness) + (piece_positioning * positionality) + (square_control * control)"
      ]
    },
    {
      "cell_type": "markdown",
      "metadata": {
        "id": "RtaeOfMH-LEx"
      },
      "source": [
        "# Play against AI"
      ]
    },
    {
      "cell_type": "code",
      "execution_count": 23,
      "metadata": {
        "colab": {
          "base_uri": "https://localhost:8080/",
          "height": 456
        },
        "id": "NS15Vcm1-Kfu",
        "outputId": "88ee2f6d-9b1c-4936-84a0-da0001e7ab84"
      },
      "outputs": [
        {
          "output_type": "display_data",
          "data": {
            "text/plain": [
              "<IPython.core.display.HTML object>"
            ],
            "text/html": [
              "<b>Move 16 White, Last Move: 'b1=N':</b><br/><svg height=\"400\" version=\"1.1\" viewBox=\"0 0 400 400\" width=\"400\" xmlns=\"http://www.w3.org/2000/svg\" xmlns:xlink=\"http://www.w3.org/1999/xlink\"><defs><g class=\"white pawn\" id=\"white-pawn\"><path d=\"M22 9c-2.21 0-4 1.79-4 4 0 .89.29 1.71.78 2.38-1.95 1.12-3.28 3.21-3.28 5.62 0 2.03.94 3.84 2.41 5.03-3 1.06-7.41 5.55-7.41 13.47h23c0-7.92-4.41-12.41-7.41-13.47 1.47-1.19 2.41-3 2.41-5.03 0-2.41-1.33-4.5-3.28-5.62.49-.67.78-1.49.78-2.38 0-2.21-1.79-4-4-4z\" fill=\"#fff\" stroke=\"#000\" stroke-linecap=\"round\" stroke-width=\"1.5\" /></g><g class=\"white bishop\" fill=\"none\" fill-rule=\"evenodd\" id=\"white-bishop\" stroke=\"#000\" stroke-linecap=\"round\" stroke-linejoin=\"round\" stroke-width=\"1.5\"><g fill=\"#fff\" stroke-linecap=\"butt\"><path d=\"M9 36c3.39-.97 10.11.43 13.5-2 3.39 2.43 10.11 1.03 13.5 2 0 0 1.65.54 3 2-.68.97-1.65.99-3 .5-3.39-.97-10.11.46-13.5-1-3.39 1.46-10.11.03-13.5 1-1.354.49-2.323.47-3-.5 1.354-1.94 3-2 3-2zM15 32c2.5 2.5 12.5 2.5 15 0 .5-1.5 0-2 0-2 0-2.5-2.5-4-2.5-4 5.5-1.5 6-11.5-5-15.5-11 4-10.5 14-5 15.5 0 0-2.5 1.5-2.5 4 0 0-.5.5 0 2zM25 8a2.5 2.5 0 1 1-5 0 2.5 2.5 0 1 1 5 0z\" /></g><path d=\"M17.5 26h10M15 30h15m-7.5-14.5v5M20 18h5\" stroke-linejoin=\"miter\" /></g><g class=\"white rook\" fill=\"#fff\" fill-rule=\"evenodd\" id=\"white-rook\" stroke=\"#000\" stroke-linecap=\"round\" stroke-linejoin=\"round\" stroke-width=\"1.5\"><path d=\"M9 39h27v-3H9v3zM12 36v-4h21v4H12zM11 14V9h4v2h5V9h5v2h5V9h4v5\" stroke-linecap=\"butt\" /><path d=\"M34 14l-3 3H14l-3-3\" /><path d=\"M31 17v12.5H14V17\" stroke-linecap=\"butt\" stroke-linejoin=\"miter\" /><path d=\"M31 29.5l1.5 2.5h-20l1.5-2.5\" /><path d=\"M11 14h23\" fill=\"none\" stroke-linejoin=\"miter\" /></g><g class=\"white queen\" fill=\"#fff\" fill-rule=\"evenodd\" id=\"white-queen\" stroke=\"#000\" stroke-linecap=\"round\" stroke-linejoin=\"round\" stroke-width=\"1.5\"><path d=\"M8 12a2 2 0 1 1-4 0 2 2 0 1 1 4 0zM24.5 7.5a2 2 0 1 1-4 0 2 2 0 1 1 4 0zM41 12a2 2 0 1 1-4 0 2 2 0 1 1 4 0zM16 8.5a2 2 0 1 1-4 0 2 2 0 1 1 4 0zM33 9a2 2 0 1 1-4 0 2 2 0 1 1 4 0z\" /><path d=\"M9 26c8.5-1.5 21-1.5 27 0l2-12-7 11V11l-5.5 13.5-3-15-3 15-5.5-14V25L7 14l2 12zM9 26c0 2 1.5 2 2.5 4 1 1.5 1 1 .5 3.5-1.5 1-1.5 2.5-1.5 2.5-1.5 1.5.5 2.5.5 2.5 6.5 1 16.5 1 23 0 0 0 1.5-1 0-2.5 0 0 .5-1.5-1-2.5-.5-2.5-.5-2 .5-3.5 1-2 2.5-2 2.5-4-8.5-1.5-18.5-1.5-27 0z\" stroke-linecap=\"butt\" /><path d=\"M11.5 30c3.5-1 18.5-1 22 0M12 33.5c6-1 15-1 21 0\" fill=\"none\" /></g><g class=\"white king\" fill=\"none\" fill-rule=\"evenodd\" id=\"white-king\" stroke=\"#000\" stroke-linecap=\"round\" stroke-linejoin=\"round\" stroke-width=\"1.5\"><path d=\"M22.5 11.63V6M20 8h5\" stroke-linejoin=\"miter\" /><path d=\"M22.5 25s4.5-7.5 3-10.5c0 0-1-2.5-3-2.5s-3 2.5-3 2.5c-1.5 3 3 10.5 3 10.5\" fill=\"#fff\" stroke-linecap=\"butt\" stroke-linejoin=\"miter\" /><path d=\"M11.5 37c5.5 3.5 15.5 3.5 21 0v-7s9-4.5 6-10.5c-4-6.5-13.5-3.5-16 4V27v-3.5c-3.5-7.5-13-10.5-16-4-3 6 5 10 5 10V37z\" fill=\"#fff\" /><path d=\"M11.5 30c5.5-3 15.5-3 21 0m-21 3.5c5.5-3 15.5-3 21 0m-21 3.5c5.5-3 15.5-3 21 0\" /></g><g class=\"black pawn\" id=\"black-pawn\"><path d=\"M22 9c-2.21 0-4 1.79-4 4 0 .89.29 1.71.78 2.38-1.95 1.12-3.28 3.21-3.28 5.62 0 2.03.94 3.84 2.41 5.03-3 1.06-7.41 5.55-7.41 13.47h23c0-7.92-4.41-12.41-7.41-13.47 1.47-1.19 2.41-3 2.41-5.03 0-2.41-1.33-4.5-3.28-5.62.49-.67.78-1.49.78-2.38 0-2.21-1.79-4-4-4z\" stroke=\"#000\" stroke-linecap=\"round\" stroke-width=\"1.5\" /></g><g class=\"black knight\" fill=\"none\" fill-rule=\"evenodd\" id=\"black-knight\" stroke=\"#000\" stroke-linecap=\"round\" stroke-linejoin=\"round\" stroke-width=\"1.5\"><path d=\"M 22,10 C 32.5,11 38.5,18 38,39 L 15,39 C 15,30 25,32.5 23,18\" style=\"fill:#000000; stroke:#000000;\" /><path d=\"M 24,18 C 24.38,20.91 18.45,25.37 16,27 C 13,29 13.18,31.34 11,31 C 9.958,30.06 12.41,27.96 11,28 C 10,28 11.19,29.23 10,30 C 9,30 5.997,31 6,26 C 6,24 12,14 12,14 C 12,14 13.89,12.1 14,10.5 C 13.27,9.506 13.5,8.5 13.5,7.5 C 14.5,6.5 16.5,10 16.5,10 L 18.5,10 C 18.5,10 19.28,8.008 21,7 C 22,7 22,10 22,10\" style=\"fill:#000000; stroke:#000000;\" /><path d=\"M 9.5 25.5 A 0.5 0.5 0 1 1 8.5,25.5 A 0.5 0.5 0 1 1 9.5 25.5 z\" style=\"fill:#ececec; stroke:#ececec;\" /><path d=\"M 15 15.5 A 0.5 1.5 0 1 1 14,15.5 A 0.5 1.5 0 1 1 15 15.5 z\" style=\"fill:#ececec; stroke:#ececec;\" transform=\"matrix(0.866,0.5,-0.5,0.866,9.693,-5.173)\" /><path d=\"M 24.55,10.4 L 24.1,11.85 L 24.6,12 C 27.75,13 30.25,14.49 32.5,18.75 C 34.75,23.01 35.75,29.06 35.25,39 L 35.2,39.5 L 37.45,39.5 L 37.5,39 C 38,28.94 36.62,22.15 34.25,17.66 C 31.88,13.17 28.46,11.02 25.06,10.5 L 24.55,10.4 z \" style=\"fill:#ececec; stroke:none;\" /></g><g class=\"black bishop\" fill=\"none\" fill-rule=\"evenodd\" id=\"black-bishop\" stroke=\"#000\" stroke-linecap=\"round\" stroke-linejoin=\"round\" stroke-width=\"1.5\"><path d=\"M9 36c3.39-.97 10.11.43 13.5-2 3.39 2.43 10.11 1.03 13.5 2 0 0 1.65.54 3 2-.68.97-1.65.99-3 .5-3.39-.97-10.11.46-13.5-1-3.39 1.46-10.11.03-13.5 1-1.354.49-2.323.47-3-.5 1.354-1.94 3-2 3-2zm6-4c2.5 2.5 12.5 2.5 15 0 .5-1.5 0-2 0-2 0-2.5-2.5-4-2.5-4 5.5-1.5 6-11.5-5-15.5-11 4-10.5 14-5 15.5 0 0-2.5 1.5-2.5 4 0 0-.5.5 0 2zM25 8a2.5 2.5 0 1 1-5 0 2.5 2.5 0 1 1 5 0z\" fill=\"#000\" stroke-linecap=\"butt\" /><path d=\"M17.5 26h10M15 30h15m-7.5-14.5v5M20 18h5\" stroke=\"#fff\" stroke-linejoin=\"miter\" /></g><g class=\"black rook\" fill=\"#000\" fill-rule=\"evenodd\" id=\"black-rook\" stroke=\"#000\" stroke-linecap=\"round\" stroke-linejoin=\"round\" stroke-width=\"1.5\"><path d=\"M9 39h27v-3H9v3zM12.5 32l1.5-2.5h17l1.5 2.5h-20zM12 36v-4h21v4H12z\" stroke-linecap=\"butt\" /><path d=\"M14 29.5v-13h17v13H14z\" stroke-linecap=\"butt\" stroke-linejoin=\"miter\" /><path d=\"M14 16.5L11 14h23l-3 2.5H14zM11 14V9h4v2h5V9h5v2h5V9h4v5H11z\" stroke-linecap=\"butt\" /><path d=\"M12 35.5h21M13 31.5h19M14 29.5h17M14 16.5h17M11 14h23\" fill=\"none\" stroke=\"#fff\" stroke-linejoin=\"miter\" stroke-width=\"1\" /></g><g class=\"black queen\" fill=\"#000\" fill-rule=\"evenodd\" id=\"black-queen\" stroke=\"#000\" stroke-linecap=\"round\" stroke-linejoin=\"round\" stroke-width=\"1.5\"><g fill=\"#000\" stroke=\"none\"><circle cx=\"6\" cy=\"12\" r=\"2.75\" /><circle cx=\"14\" cy=\"9\" r=\"2.75\" /><circle cx=\"22.5\" cy=\"8\" r=\"2.75\" /><circle cx=\"31\" cy=\"9\" r=\"2.75\" /><circle cx=\"39\" cy=\"12\" r=\"2.75\" /></g><path d=\"M9 26c8.5-1.5 21-1.5 27 0l2.5-12.5L31 25l-.3-14.1-5.2 13.6-3-14.5-3 14.5-5.2-13.6L14 25 6.5 13.5 9 26zM9 26c0 2 1.5 2 2.5 4 1 1.5 1 1 .5 3.5-1.5 1-1.5 2.5-1.5 2.5-1.5 1.5.5 2.5.5 2.5 6.5 1 16.5 1 23 0 0 0 1.5-1 0-2.5 0 0 .5-1.5-1-2.5-.5-2.5-.5-2 .5-3.5 1-2 2.5-2 2.5-4-8.5-1.5-18.5-1.5-27 0z\" stroke-linecap=\"butt\" /><path d=\"M11 38.5a35 35 1 0 0 23 0\" fill=\"none\" stroke-linecap=\"butt\" /><path d=\"M11 29a35 35 1 0 1 23 0M12.5 31.5h20M11.5 34.5a35 35 1 0 0 22 0M10.5 37.5a35 35 1 0 0 24 0\" fill=\"none\" stroke=\"#fff\" /></g><g class=\"black king\" fill=\"none\" fill-rule=\"evenodd\" id=\"black-king\" stroke=\"#000\" stroke-linecap=\"round\" stroke-linejoin=\"round\" stroke-width=\"1.5\"><path d=\"M22.5 11.63V6\" stroke-linejoin=\"miter\" /><path d=\"M22.5 25s4.5-7.5 3-10.5c0 0-1-2.5-3-2.5s-3 2.5-3 2.5c-1.5 3 3 10.5 3 10.5\" fill=\"#000\" stroke-linecap=\"butt\" stroke-linejoin=\"miter\" /><path d=\"M11.5 37c5.5 3.5 15.5 3.5 21 0v-7s9-4.5 6-10.5c-4-6.5-13.5-3.5-16 4V27v-3.5c-3.5-7.5-13-10.5-16-4-3 6 5 10 5 10V37z\" fill=\"#000\" /><path d=\"M20 8h5\" stroke-linejoin=\"miter\" /><path d=\"M32 29.5s8.5-4 6.03-9.65C34.15 14 25 18 22.5 24.5l.01 2.1-.01-2.1C20 18 9.906 14 6.997 19.85c-2.497 5.65 4.853 9 4.853 9M11.5 30c5.5-3 15.5-3 21 0m-21 3.5c5.5-3 15.5-3 21 0m-21 3.5c5.5-3 15.5-3 21 0\" stroke=\"#fff\" /></g></defs><rect class=\"square dark a1\" fill=\"#d18b47\" height=\"45\" stroke=\"none\" width=\"45\" x=\"20\" y=\"335\" /><rect class=\"square light lastmove b1\" fill=\"#cdd16a\" height=\"45\" stroke=\"none\" width=\"45\" x=\"65\" y=\"335\" /><use transform=\"translate(65, 335)\" xlink:href=\"#black-knight\" /><rect class=\"square dark c1\" fill=\"#d18b47\" height=\"45\" stroke=\"none\" width=\"45\" x=\"110\" y=\"335\" /><rect class=\"square light d1\" fill=\"#ffce9e\" height=\"45\" stroke=\"none\" width=\"45\" x=\"155\" y=\"335\" /><use transform=\"translate(155, 335)\" xlink:href=\"#white-rook\" /><rect class=\"square dark e1\" fill=\"#d18b47\" height=\"45\" stroke=\"none\" width=\"45\" x=\"200\" y=\"335\" /><use transform=\"translate(200, 335)\" xlink:href=\"#white-king\" /><rect class=\"square light f1\" fill=\"#ffce9e\" height=\"45\" stroke=\"none\" width=\"45\" x=\"245\" y=\"335\" /><rect class=\"square dark g1\" fill=\"#d18b47\" height=\"45\" stroke=\"none\" width=\"45\" x=\"290\" y=\"335\" /><rect class=\"square light h1\" fill=\"#ffce9e\" height=\"45\" stroke=\"none\" width=\"45\" x=\"335\" y=\"335\" /><use transform=\"translate(335, 335)\" xlink:href=\"#white-rook\" /><rect class=\"square light a2\" fill=\"#ffce9e\" height=\"45\" stroke=\"none\" width=\"45\" x=\"20\" y=\"290\" /><use transform=\"translate(20, 290)\" xlink:href=\"#white-pawn\" /><rect class=\"square dark lastmove b2\" fill=\"#aaa23b\" height=\"45\" stroke=\"none\" width=\"45\" x=\"65\" y=\"290\" /><rect class=\"square light c2\" fill=\"#ffce9e\" height=\"45\" stroke=\"none\" width=\"45\" x=\"110\" y=\"290\" /><use transform=\"translate(110, 290)\" xlink:href=\"#white-pawn\" /><rect class=\"square dark d2\" fill=\"#d18b47\" height=\"45\" stroke=\"none\" width=\"45\" x=\"155\" y=\"290\" /><rect class=\"square light e2\" fill=\"#ffce9e\" height=\"45\" stroke=\"none\" width=\"45\" x=\"200\" y=\"290\" /><rect class=\"square dark f2\" fill=\"#d18b47\" height=\"45\" stroke=\"none\" width=\"45\" x=\"245\" y=\"290\" /><use transform=\"translate(245, 290)\" xlink:href=\"#white-pawn\" /><rect class=\"square light g2\" fill=\"#ffce9e\" height=\"45\" stroke=\"none\" width=\"45\" x=\"290\" y=\"290\" /><use transform=\"translate(290, 290)\" xlink:href=\"#white-pawn\" /><rect class=\"square dark h2\" fill=\"#d18b47\" height=\"45\" stroke=\"none\" width=\"45\" x=\"335\" y=\"290\" /><use transform=\"translate(335, 290)\" xlink:href=\"#white-pawn\" /><rect class=\"square dark a3\" fill=\"#d18b47\" height=\"45\" stroke=\"none\" width=\"45\" x=\"20\" y=\"245\" /><rect class=\"square light b3\" fill=\"#ffce9e\" height=\"45\" stroke=\"none\" width=\"45\" x=\"65\" y=\"245\" /><rect class=\"square dark c3\" fill=\"#d18b47\" height=\"45\" stroke=\"none\" width=\"45\" x=\"110\" y=\"245\" /><rect class=\"square light d3\" fill=\"#ffce9e\" height=\"45\" stroke=\"none\" width=\"45\" x=\"155\" y=\"245\" /><rect class=\"square dark e3\" fill=\"#d18b47\" height=\"45\" stroke=\"none\" width=\"45\" x=\"200\" y=\"245\" /><rect class=\"square light f3\" fill=\"#ffce9e\" height=\"45\" stroke=\"none\" width=\"45\" x=\"245\" y=\"245\" /><rect class=\"square dark g3\" fill=\"#d18b47\" height=\"45\" stroke=\"none\" width=\"45\" x=\"290\" y=\"245\" /><rect class=\"square light h3\" fill=\"#ffce9e\" height=\"45\" stroke=\"none\" width=\"45\" x=\"335\" y=\"245\" /><rect class=\"square light a4\" fill=\"#ffce9e\" height=\"45\" stroke=\"none\" width=\"45\" x=\"20\" y=\"200\" /><rect class=\"square dark b4\" fill=\"#d18b47\" height=\"45\" stroke=\"none\" width=\"45\" x=\"65\" y=\"200\" /><rect class=\"square light c4\" fill=\"#ffce9e\" height=\"45\" stroke=\"none\" width=\"45\" x=\"110\" y=\"200\" /><rect class=\"square dark d4\" fill=\"#d18b47\" height=\"45\" stroke=\"none\" width=\"45\" x=\"155\" y=\"200\" /><rect class=\"square light e4\" fill=\"#ffce9e\" height=\"45\" stroke=\"none\" width=\"45\" x=\"200\" y=\"200\" /><use transform=\"translate(200, 200)\" xlink:href=\"#white-pawn\" /><rect class=\"square dark f4\" fill=\"#d18b47\" height=\"45\" stroke=\"none\" width=\"45\" x=\"245\" y=\"200\" /><use transform=\"translate(245, 200)\" xlink:href=\"#white-bishop\" /><rect class=\"square light g4\" fill=\"#ffce9e\" height=\"45\" stroke=\"none\" width=\"45\" x=\"290\" y=\"200\" /><rect class=\"square dark h4\" fill=\"#d18b47\" height=\"45\" stroke=\"none\" width=\"45\" x=\"335\" y=\"200\" /><rect class=\"square dark a5\" fill=\"#d18b47\" height=\"45\" stroke=\"none\" width=\"45\" x=\"20\" y=\"155\" /><rect class=\"square light b5\" fill=\"#ffce9e\" height=\"45\" stroke=\"none\" width=\"45\" x=\"65\" y=\"155\" /><rect class=\"square dark c5\" fill=\"#d18b47\" height=\"45\" stroke=\"none\" width=\"45\" x=\"110\" y=\"155\" /><use transform=\"translate(110, 155)\" xlink:href=\"#black-pawn\" /><rect class=\"square light d5\" fill=\"#ffce9e\" height=\"45\" stroke=\"none\" width=\"45\" x=\"155\" y=\"155\" /><rect class=\"square dark e5\" fill=\"#d18b47\" height=\"45\" stroke=\"none\" width=\"45\" x=\"200\" y=\"155\" /><rect class=\"square light f5\" fill=\"#ffce9e\" height=\"45\" stroke=\"none\" width=\"45\" x=\"245\" y=\"155\" /><rect class=\"square dark g5\" fill=\"#d18b47\" height=\"45\" stroke=\"none\" width=\"45\" x=\"290\" y=\"155\" /><use transform=\"translate(290, 155)\" xlink:href=\"#black-pawn\" /><rect class=\"square light h5\" fill=\"#ffce9e\" height=\"45\" stroke=\"none\" width=\"45\" x=\"335\" y=\"155\" /><use transform=\"translate(335, 155)\" xlink:href=\"#white-queen\" /><rect class=\"square light a6\" fill=\"#ffce9e\" height=\"45\" stroke=\"none\" width=\"45\" x=\"20\" y=\"110\" /><rect class=\"square dark b6\" fill=\"#d18b47\" height=\"45\" stroke=\"none\" width=\"45\" x=\"65\" y=\"110\" /><rect class=\"square light c6\" fill=\"#ffce9e\" height=\"45\" stroke=\"none\" width=\"45\" x=\"110\" y=\"110\" /><use transform=\"translate(110, 110)\" xlink:href=\"#black-bishop\" /><rect class=\"square dark d6\" fill=\"#d18b47\" height=\"45\" stroke=\"none\" width=\"45\" x=\"155\" y=\"110\" /><rect class=\"square light e6\" fill=\"#ffce9e\" height=\"45\" stroke=\"none\" width=\"45\" x=\"200\" y=\"110\" /><rect class=\"square dark f6\" fill=\"#d18b47\" height=\"45\" stroke=\"none\" width=\"45\" x=\"245\" y=\"110\" /><rect class=\"square light g6\" fill=\"#ffce9e\" height=\"45\" stroke=\"none\" width=\"45\" x=\"290\" y=\"110\" /><use transform=\"translate(290, 110)\" xlink:href=\"#black-pawn\" /><rect class=\"square dark h6\" fill=\"#d18b47\" height=\"45\" stroke=\"none\" width=\"45\" x=\"335\" y=\"110\" /><rect class=\"square dark a7\" fill=\"#d18b47\" height=\"45\" stroke=\"none\" width=\"45\" x=\"20\" y=\"65\" /><use transform=\"translate(20, 65)\" xlink:href=\"#black-pawn\" /><rect class=\"square light b7\" fill=\"#ffce9e\" height=\"45\" stroke=\"none\" width=\"45\" x=\"65\" y=\"65\" /><rect class=\"square dark c7\" fill=\"#d18b47\" height=\"45\" stroke=\"none\" width=\"45\" x=\"110\" y=\"65\" /><rect class=\"square light d7\" fill=\"#ffce9e\" height=\"45\" stroke=\"none\" width=\"45\" x=\"155\" y=\"65\" /><rect class=\"square dark e7\" fill=\"#d18b47\" height=\"45\" stroke=\"none\" width=\"45\" x=\"200\" y=\"65\" /><rect class=\"square light f7\" fill=\"#ffce9e\" height=\"45\" stroke=\"none\" width=\"45\" x=\"245\" y=\"65\" /><use transform=\"translate(245, 65)\" xlink:href=\"#black-king\" /><rect class=\"square dark g7\" fill=\"#d18b47\" height=\"45\" stroke=\"none\" width=\"45\" x=\"290\" y=\"65\" /><rect class=\"square light h7\" fill=\"#ffce9e\" height=\"45\" stroke=\"none\" width=\"45\" x=\"335\" y=\"65\" /><use transform=\"translate(335, 65)\" xlink:href=\"#black-pawn\" /><rect class=\"square light a8\" fill=\"#ffce9e\" height=\"45\" stroke=\"none\" width=\"45\" x=\"20\" y=\"20\" /><use transform=\"translate(20, 20)\" xlink:href=\"#black-rook\" /><rect class=\"square dark b8\" fill=\"#d18b47\" height=\"45\" stroke=\"none\" width=\"45\" x=\"65\" y=\"20\" /><use transform=\"translate(65, 20)\" xlink:href=\"#black-knight\" /><rect class=\"square light c8\" fill=\"#ffce9e\" height=\"45\" stroke=\"none\" width=\"45\" x=\"110\" y=\"20\" /><rect class=\"square dark d8\" fill=\"#d18b47\" height=\"45\" stroke=\"none\" width=\"45\" x=\"155\" y=\"20\" /><use transform=\"translate(155, 20)\" xlink:href=\"#black-queen\" /><rect class=\"square light e8\" fill=\"#ffce9e\" height=\"45\" stroke=\"none\" width=\"45\" x=\"200\" y=\"20\" /><rect class=\"square dark f8\" fill=\"#d18b47\" height=\"45\" stroke=\"none\" width=\"45\" x=\"245\" y=\"20\" /><use transform=\"translate(245, 20)\" xlink:href=\"#black-bishop\" /><rect class=\"square light g8\" fill=\"#ffce9e\" height=\"45\" stroke=\"none\" width=\"45\" x=\"290\" y=\"20\" /><use transform=\"translate(290, 20)\" xlink:href=\"#black-knight\" /><rect class=\"square dark h8\" fill=\"#d18b47\" height=\"45\" stroke=\"none\" width=\"45\" x=\"335\" y=\"20\" /><use transform=\"translate(335, 20)\" xlink:href=\"#black-rook\" /><text alignment-baseline=\"middle\" font-size=\"14\" text-anchor=\"middle\" x=\"42\" y=\"10\">a</text><text alignment-baseline=\"middle\" font-size=\"14\" text-anchor=\"middle\" x=\"42\" y=\"390\">a</text><text alignment-baseline=\"middle\" font-size=\"14\" text-anchor=\"middle\" x=\"87\" y=\"10\">b</text><text alignment-baseline=\"middle\" font-size=\"14\" text-anchor=\"middle\" x=\"87\" y=\"390\">b</text><text alignment-baseline=\"middle\" font-size=\"14\" text-anchor=\"middle\" x=\"132\" y=\"10\">c</text><text alignment-baseline=\"middle\" font-size=\"14\" text-anchor=\"middle\" x=\"132\" y=\"390\">c</text><text alignment-baseline=\"middle\" font-size=\"14\" text-anchor=\"middle\" x=\"177\" y=\"10\">d</text><text alignment-baseline=\"middle\" font-size=\"14\" text-anchor=\"middle\" x=\"177\" y=\"390\">d</text><text alignment-baseline=\"middle\" font-size=\"14\" text-anchor=\"middle\" x=\"222\" y=\"10\">e</text><text alignment-baseline=\"middle\" font-size=\"14\" text-anchor=\"middle\" x=\"222\" y=\"390\">e</text><text alignment-baseline=\"middle\" font-size=\"14\" text-anchor=\"middle\" x=\"267\" y=\"10\">f</text><text alignment-baseline=\"middle\" font-size=\"14\" text-anchor=\"middle\" x=\"267\" y=\"390\">f</text><text alignment-baseline=\"middle\" font-size=\"14\" text-anchor=\"middle\" x=\"312\" y=\"10\">g</text><text alignment-baseline=\"middle\" font-size=\"14\" text-anchor=\"middle\" x=\"312\" y=\"390\">g</text><text alignment-baseline=\"middle\" font-size=\"14\" text-anchor=\"middle\" x=\"357\" y=\"10\">h</text><text alignment-baseline=\"middle\" font-size=\"14\" text-anchor=\"middle\" x=\"357\" y=\"390\">h</text><text alignment-baseline=\"middle\" font-size=\"14\" text-anchor=\"middle\" x=\"10\" y=\"357\">1</text><text alignment-baseline=\"middle\" font-size=\"14\" text-anchor=\"middle\" x=\"390\" y=\"357\">1</text><text alignment-baseline=\"middle\" font-size=\"14\" text-anchor=\"middle\" x=\"10\" y=\"312\">2</text><text alignment-baseline=\"middle\" font-size=\"14\" text-anchor=\"middle\" x=\"390\" y=\"312\">2</text><text alignment-baseline=\"middle\" font-size=\"14\" text-anchor=\"middle\" x=\"10\" y=\"267\">3</text><text alignment-baseline=\"middle\" font-size=\"14\" text-anchor=\"middle\" x=\"390\" y=\"267\">3</text><text alignment-baseline=\"middle\" font-size=\"14\" text-anchor=\"middle\" x=\"10\" y=\"222\">4</text><text alignment-baseline=\"middle\" font-size=\"14\" text-anchor=\"middle\" x=\"390\" y=\"222\">4</text><text alignment-baseline=\"middle\" font-size=\"14\" text-anchor=\"middle\" x=\"10\" y=\"177\">5</text><text alignment-baseline=\"middle\" font-size=\"14\" text-anchor=\"middle\" x=\"390\" y=\"177\">5</text><text alignment-baseline=\"middle\" font-size=\"14\" text-anchor=\"middle\" x=\"10\" y=\"132\">6</text><text alignment-baseline=\"middle\" font-size=\"14\" text-anchor=\"middle\" x=\"390\" y=\"132\">6</text><text alignment-baseline=\"middle\" font-size=\"14\" text-anchor=\"middle\" x=\"10\" y=\"87\">7</text><text alignment-baseline=\"middle\" font-size=\"14\" text-anchor=\"middle\" x=\"390\" y=\"87\">7</text><text alignment-baseline=\"middle\" font-size=\"14\" text-anchor=\"middle\" x=\"10\" y=\"42\">8</text><text alignment-baseline=\"middle\" font-size=\"14\" text-anchor=\"middle\" x=\"390\" y=\"42\">8</text></svg>"
            ]
          },
          "metadata": {}
        },
        {
          "output_type": "stream",
          "name": "stdout",
          "text": [
            "Game Over\n"
          ]
        }
      ],
      "source": [
        "play_game(betazero_player, human_player)\n",
        "print(\"Game Over\")"
      ]
    },
    {
      "cell_type": "markdown",
      "metadata": {
        "id": "K5V7uQ3Tm8od"
      },
      "source": [
        "# A couple of saved games"
      ]
    },
    {
      "cell_type": "markdown",
      "metadata": {
        "id": "3wANfVCEtYWu"
      },
      "source": [
        "Moves: \n",
        "1. Nf3\n",
        "1... Nf6\n",
        "2. Nc3\n",
        "2... Nc6\n",
        "3. e3\n",
        "3... Ng4\n",
        "4. e4\n",
        "4... e5\n",
        "5. Bc4\n",
        "5... Qf6\n",
        "6. Bxf7+\n",
        "6... Qxf7\n",
        "7. d4\n",
        "7... Nxd4\n",
        "8. O-O\n",
        "8... Qh5\n",
        "9. Nd5\n",
        "9... Nxf3+\n",
        "10. Kh1\n",
        "10... Qxh2#"
      ]
    },
    {
      "cell_type": "markdown",
      "metadata": {
        "id": "B1zqEHlSGPuC"
      },
      "source": [
        "Checkmate! White wins.\n",
        "Moves: \n",
        "1. d4\n",
        "1... e6\n",
        "2. Qd3\n",
        "2... Bb4+\n",
        "3. Bd2\n",
        "3... Qe7\n",
        "4. a3\n",
        "4... Bd6\n",
        "5. Nc3\n",
        "5... Qf6\n",
        "6. Ne4\n",
        "6... Qf5\n",
        "7. Nxd6+\n",
        "7... cxd6\n",
        "8. Qxf5\n",
        "8... exf5\n",
        "9. Nf3\n",
        "9... Nf6\n",
        "10. Bf4\n",
        "10... Nc6\n",
        "11. Bxd6\n",
        "11... Ne4\n",
        "12. Bf4\n",
        "12... g5\n",
        "13. Nxg5\n",
        "13... Nxg5\n",
        "14. d5\n",
        "14... Ne7\n",
        "15. Bxg5\n",
        "15... Nxd5\n",
        "16. O-O-O\n",
        "16... h6\n",
        "17. Bxh6\n",
        "17... Nc3\n",
        "18. bxc3\n",
        "18... Rxh6\n",
        "19. e3\n",
        "19... Ke7\n",
        "20. Bc4\n",
        "20... b5\n",
        "21. Bxb5\n",
        "21... Rb8\n",
        "22. Rd5\n",
        "22... d6\n",
        "23. Bc6\n",
        "23... Be6\n",
        "24. Ra5\n",
        "24... a6\n",
        "25. Rxa6\n",
        "25... Rhh8\n",
        "26. Ra7+\n",
        "26... Kf6\n",
        "27. Kd2\n",
        "27... Kg7\n",
        "28. Bf3\n",
        "28... d5\n",
        "29. h4\n",
        "29... Rhc8\n",
        "30. h5\n",
        "30... Rh8\n",
        "31. Be2\n",
        "31... Rh6\n",
        "32. Rh4\n",
        "32... Rhh8\n",
        "33. h6+\n",
        "33... Rxh6\n",
        "34. Rxh6\n",
        "34... Kxh6\n",
        "35. Re7\n",
        "35... Kg7\n",
        "36. Ra7\n",
        "36... Rb1\n",
        "37. Re7\n",
        "37... Rb8\n",
        "38. Rc7\n",
        "38... Rb1\n",
        "39. Ra7\n",
        "39... Rb8\n",
        "40. Re7\n",
        "40... Rb1\n",
        "41. Rc7\n",
        "41... Rb8\n",
        "42. Kc1\n",
        "42... Rb6\n",
        "43. Kd1\n",
        "43... Rb8\n",
        "44. Ke1\n",
        "44... Rh8\n",
        "45. Rb7\n",
        "45... Rh2\n",
        "46. g3\n",
        "46... Rh3\n",
        "47. Kd2\n",
        "47... Rh8\n",
        "48. Bf3\n",
        "48... Rc8\n",
        "49. Rb4\n",
        "49... Rh8\n",
        "50. Rb1\n",
        "50... Rc8\n",
        "51. Rb7\n",
        "51... Rc4\n",
        "52. Rb4\n",
        "52... Rc8\n",
        "53. Rh4\n",
        "53... Rb8\n",
        "54. Rb4\n",
        "54... Rh8\n",
        "55. Rb6\n",
        "55... Rc8\n",
        "56. Rb5\n",
        "56... Rc4\n",
        "57. Bxd5\n",
        "57... Bxd5\n",
        "58. Rxd5\n",
        "58... Kg6\n",
        "59. Rb5\n",
        "59... Rc6\n",
        "60. Kd3\n",
        "60... Re6\n",
        "61. Ke2\n",
        "61... Kf6\n",
        "62. Rd5\n",
        "62... Kg6\n",
        "63. a4\n",
        "63... Kf6\n",
        "64. a5\n",
        "64... Kg6\n",
        "65. Rb5\n",
        "65... Kf6\n",
        "66. Rb6\n",
        "66... Kg7\n",
        "67. Rxe6\n",
        "67... fxe6\n",
        "68. a6\n",
        "68... e5\n",
        "69. a7\n",
        "69... f4\n",
        "70. a8=Q\n",
        "70... fxe3\n",
        "71. fxe3\n",
        "71... Kg6\n",
        "72. Qe8+\n",
        "72... Kf6\n",
        "73. e4\n",
        "73... Kg7\n",
        "74. Qxe5+\n",
        "74... Kg8\n",
        "75. Qf6\n",
        "75... Kh7\n",
        "76. c4\n",
        "76... Kg8\n",
        "77. Kf3\n",
        "77... Kh7\n",
        "78. Kg2\n",
        "78... Kg8\n",
        "79. c5\n",
        "79... Kh7\n",
        "80. c6\n",
        "80... Kg8\n",
        "81. c7\n",
        "81... Kh7\n",
        "82. Qf7+\n",
        "82... Kh6\n",
        "83. c8=Q\n",
        "83... Kg5\n",
        "84. Qh8\n",
        "84... Kg4\n",
        "85. Qhg8#\n",
        "Game Over"
      ]
    },
    {
      "cell_type": "markdown",
      "metadata": {
        "id": "negB0atAVAg2"
      },
      "source": [
        "Checkmate! Black wins.\n",
        "Moves: \n",
        "1. g3\n",
        "1... d5\n",
        "2. Nh3\n",
        "2... e5\n",
        "3. f3\n",
        "3... Bc5\n",
        "4. Ng5\n",
        "4... Qxg5\n",
        "5. c4\n",
        "5... Nf6\n",
        "6. e3\n",
        "6... Nc6\n",
        "7. Nc3\n",
        "7... Bb4\n",
        "8. Ne2\n",
        "8... Qxe3\n",
        "9. Bh3\n",
        "9... Bxh3\n",
        "10. g4\n",
        "10... Bg2\n",
        "11. g5\n",
        "11... Bxh1\n",
        "12. h4\n",
        "12... Bxf3\n",
        "13. h5\n",
        "13... Ng4\n",
        "14. a3\n",
        "14... Rg8\n",
        "15. Rb1\n",
        "15... Rh8\n",
        "16. Kf1\n",
        "16... Bxd2\n",
        "17. b3\n",
        "17... Rg8\n",
        "18. Qxd2\n",
        "18... Qf2#\n",
        "Game Over"
      ]
    },
    {
      "cell_type": "markdown",
      "metadata": {
        "id": "TyrPpB0oZjTN"
      },
      "source": [
        "Checkmate! White wins.\n",
        "Moves: \n",
        "1. d4\n",
        "1... Nc6\n",
        "2. d5\n",
        "2... Nd4\n",
        "3. Qxd4\n",
        "3... c6\n",
        "4. Nc3\n",
        "4... h5\n",
        "5. Nf3\n",
        "5... e6\n",
        "6. Bg5\n",
        "6... Bb4\n",
        "7. Bxd8\n",
        "7... Rh6\n",
        "8. Qxb4\n",
        "8... d6\n",
        "9. Bg5\n",
        "9... Rh7\n",
        "10. Qxd6\n",
        "10... Bd7\n",
        "11. dxe6\n",
        "11... b6\n",
        "12. Qxd7+\n",
        "12... Kf8\n",
        "13. Qxf7#\n",
        "Game Over"
      ]
    }
  ],
  "metadata": {
    "colab": {
      "name": "BetaZero.ipynb",
      "provenance": []
    },
    "kernelspec": {
      "display_name": "Python 3",
      "name": "python3"
    },
    "language_info": {
      "name": "python"
    }
  },
  "nbformat": 4,
  "nbformat_minor": 0
}